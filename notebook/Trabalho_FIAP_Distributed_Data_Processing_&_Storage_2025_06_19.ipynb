{
  "cells": [
    {
      "cell_type": "markdown",
      "source": [
        "## Nome: Gustavo Queiroz Ribeiro\n",
        "## RM: 361485\n",
        "\n",
        "Trabalho avaliativo da materia: *Distributed Data Processing & Storage* no MBA de Engenharia de Dados da FIAP.\n",
        "\n",
        "![logo_fiap.png](data:image/png;base64,iVBORw0KGgoAAAANSUhEUgAAAMgAAADICAIAAAAiOjnJAAAMhUlEQVR4nOzce4wV5d0H8O/vmb0AcgcRFBYI8AK+iq++Qr1QNbU2SDStl5jGPyBpbVOsrVestLFpa40itpiaFqnVNimx1pS0xaS2tqhIS7BWRQ3uAos3LoII1GUvuHvm+TVn5pzD2cvZXXbPb84p+/3E7B5nl3menfnOM/M888w4EBlgsMgEg0UmGCwywWCRCQaLTDBYZILBIhMMFplgsMgEg0UmGCwywWCRCQaLTDBYZILBIhMMFplgsMgEg0UmGCwywWCRCQaLTDBYZILBIhMMFplgsMgEg0UmGCwywWCRCQaLTDBYZILBIhMMFplgsMgEg0UmGCwywWCRCQaLTDBYZILBIhMMFplgsMgEg0UmGCwywWCRCQaLTDBYZILBIhMMFplgsMgEg0UmGCwywWCRCQaLTDBYZILBIhMMFplgsMgEg0UmGCwywWCRCQaLTDBYZILBIhMMFplgsMgEg0UmGCwywWCRCQaLTDBYZILBIhMMFplgsMgEg0UmGCwywWCRCQaLTDBYZILBIhOJBEuSKCS/vOIWKPl/gaCrj0XgOhTZZ5L33ay25cCl/xNIUXe3tPvW6Qeu2GVJ+50kUsRd5ZBZncuW1bnEbuom+b+b/SdB3nqC/NUmJYmytrgFUE1vvfTXfq1KoxprvG+9LsSLe7Wlw+8MQ8VGuRTAB3L0cr+hX+VFMiVGH+51/7fMzwTkZRy8EOvb4Pu//lwxa2X+BTpWVSUuUkShPeYh/TvRtvWKlPiPkdqD5nfQ9AoObZADO/0RjdbmUMS69qwigTLO8sMhLr2JVFX7tarcNo6ypVUSoP0KHSQQN0dGipcxaOpXYfllRc5zJy/zs+MFczH6hxVnfSv1WlGKiI2W6vF+UFSk+HRg1PWcqnZVlChEZ8rIdDrTy/2Tbvdiv7kVPslUJRSsdB6iP3gltvX/fJhpPNIr9A3a2uGnPo5ctBV9/0Lc2VL9H0CPIlRgMILbwhnrsPsfOFCctSvSLTr0fWlZpTs0Okh6bLE078BykEq4cTJoCk6aIyMm6mDAfdHXfFZOuRdbH9Ltxaln7yQRLM2eTG7Dayjizi64qtwZt5jJWlBx2lWpSQB+L3vWBx+uDs+tQLBUZm3SA7lipH9FRv9cPpDm+7W27yvRzAXDAnfqr/zck2XQWB28EmefXTFqceolybuccBBf1E2Uj8MNvSCYJkOf8PMAtCJcibrHU/XrsU9VL9fx17nJue1otZeOh2a/PuP3TpSnb8aWJqTb9UWpKXe52ZmfRsedXaoYrJ5J1AbchBkjkb76ubvizZf1EIAHpFZEqxA8qedNkiFeetuPS6DGku23ptQ/rNvOcX9uSp++5W7932FSGbdqMO65MVg9UOB0N3KxThWvG+XAilRdvPB53f8wdvjoKmgpZkVXSOXSZEVXa8eqssM3fl+2KjBEg9/I+cmMbTFYPaiC+ysuHoUqwK+QuvhaWqKu+836ai0aAHwV0ya6k1Aeo5D5VYhPeQqswg4g9JCFfvw0NzzbAeKpMCmdg7FEZkzwgwBd43Y94/dC0/1RzTYMy1ELSLW6Z3HxGKkuhxZLO/+PoFFTK4Md0ZCPnIURCeSfwWpHs+HKbfo7MBOQd9C8SDen4rNd3q5bo+9udoc8ZLaO+BKm5oa/C94YSJzLdsuf0PejBTJZh8RD/aZHAYPViWa+VML91l0wUYcAWOFquzxxKHCVvrgHTVC9ETPSjVZ2uRMphwbMx8OIwDbfEC8ZppX9HafuBQaro1z3bqFMuE4nQ1AfNP7c7yy0K/ah5adSD0iNnrTWzRfARZc23n7n9VY0cpVCCGRuE2WWs1eYJM3ei7wds7zqfhxdoBtCFI6J4jF9e5s0OOhFfty1UqPl0FLli8ZDZ7tRGt0mapBUAmUyWF0RLHWzP61jncij2LnTH4kWBoWO8I/Qepm80Jru48udMivZuvZClPOrg0kSDWC9hybJW26kXIJVLvWInINRPwjPAGQXmlahPrs4LLwjdJc2PSL1gvBcP/oeN6fkV+3tt6eMkeob26bG4yT/xKEEWtSy2KHppjrqpwRd/QjFnl/VYf2ZGVx5S27FzGoJQtHPy9/3akumn1h4b8RdrBWoi39zmc6a58YWd/7ZcZC8eT4S/316PWpGSZUCT1bu2YNm2N8nKItg5UaKw0K/EU1UMK2rz27nz7kJ1+gkD/013t3iDyHXTyy8G+K9uFubr5ZNn8A7lTv9zAR6Xt3I3BOMpktc7MbdpbMd3B5pui31SjI3CZKZNlPQKTJ4n14Zz3OJ+udeO+VHonvwE9zT+3zHOX39p3kTEgLICKlap/Or4KB+udRqtq3SbIvV9e7IrmSd3/W01Fyrk67GxIUVE/+U2l30Cvco0+sTOE0fLV8IJq4Nz5do4toDUrcPR3MVFsteRolbLIlnlkJc5gaDk/bTbdNbQKPJzdG34os2bVxQCnorZlapC4Gvu9fqtAF5M560m2Gp7A9C4EHUReOoWBPOnSbDLKrcvbguFSqfkVMel3lrwk85BEfRdq/b+ijePjb5wbjNKnGL1Qq/wX0kQBgdYSE06HTmT7dXIqmU+n5OdyosPsSHofKbmAHIc27far8D0YjUsbklvSv6JRz8XsXWe1Knj9LKb8j0W1DMKaYoMOcrt2yoBOe40VfIaTeEU0dqdXa5v9lt+UVYcCjOQomDdQitl4Tru58gJ50m4BafYJhWPBtcMiysBLBca+OrPd+Hs4XivtTWx2SnA1oKXzT22X06ZwmmKzJTSyV3la5ajaBCXRBK7pLxiIRP4b2fof7V+GIxQSUOVqbnkr3Q7SJgTtRrPElXzVosANdJzXnhGIg8Jjuf0w8zlelTcQrdry1qM7Rd5YIRviK6NkD+nHeJR9XTNRaP8GNpWyHbfuTrWvMfobDcgB2UPlj5vacuohP1B73ZRUH87MpgDW6RWQq8gcM36StxlfpcmuYSZVDhtbpruzRI/GiOxl/Sh5xTSUGbJPUhPtmJxne1UTvPmE7wXFj6YB3LknTRT7E+xnwUgVVu7hnhcAAPYdvRzD21/GfNjlN2Xo1F5TfpR5vcwXRbmp+V3FeJtmLUuLvsCbEkwx6lD1Zee1WKTaC4TMYvDmsAPC/7n9Jd7arVtwod3+X+8ct7/KhjbjSzFbUfx0VRlMUAaTeKv12iZ7Il8zHtDpnlIYfRdgU2NsPkBq1ERbZ7Tl86PgLfN91vH/NOT2Glb7GSpsdaRgW+4qZd6sc5yIOuttmbpGqJTB+ng1oQ/jga4sr1CRS2Q5SlNeCCJdk5SaKY7oav9v8PcYfR9hO/3eTEIThVhnxHTwcwtLLqu22va9712wms3E+FRZe5Lxk1FXdgpsAd0baFeKERKZPGQ/GI7tgtzQIsa5t5Psbm9wpO1OZqIAYrZ1ow/Mt+CkSekPc342CR34aTI9ijLVfIRkCduNtzj4xalFVOBmSwRMah+ll/kUPQoJ88hLrojqzVvhbgDX/4l/KOU1zpJ1wjk8rjMQtbAy5Y0dwpvUGmTcFQgS4KXt6Gxsw9ZotZX9lbCsulLrqkdb/TC0+VwWyxTjQKTHCDl+h0p1gne/8Y7sp10lzRX0+TLRHRQzJfc//S6HVCt6P8pi8X24ALFoA/YP5pGALIA6iLl8TXV1ZvkBJUROFarfV/cwecyE06fYIbUi7verAx4IJ1vdTM82MEen/w1ibNvNrKdranZkZdRbFc31LVKgR/wUUjteoEvoZPIliJv4hFonuAvssSl8psL/5VOfzt8PWEd2v8KpFVQT3gz/TDF2Fyrrqxeml60/17OxoTfl/of7VSbKiy3zlS4H86PqpPXZACny2L6+Y2XP77g0uy26RTNeIPnZ9QYqzKTg9vn27/2o+kFTjSgvZLGKpeSWwzSd6HLsfS8xeVpOeSa7FcLuKd61na6BOVrQE33EDJYLDIBINFJhgsMsFgkQkGi0wwWGSCwSITDBaZYLDIBINFJhgsMsFgkQkGi0wwWGSCwSITDBaZYLDIBINFJhgsMsFgkQkGi0wwWGSCwSITDBaZYLDIBINFJhgsMsFgkQkGi0wwWGSCwSITDBaZYLDIBINFJhgsMsFgkQkGi0wwWGSCwSITDBaZYLDIBINFJhgsMsFgkQkGi0wwWGSCwSITDBaZYLDIBINFJhgsMsFgkQkGi0wwWGSCwSITDBaZYLDIBINFJhgsMsFgkQkGi0wwWGSCwSITDBaZYLDIBINFJhgsMsFgkQkGi0wwWGSCwSITDBaZYLDIBINFJhgsMsFgkYn/BAAA//9KQAbn//DbqQAAAABJRU5ErkJggg==)\n",
        "\n",
        "OBS: Executar na ordem correta."
      ],
      "metadata": {
        "id": "tcl7EV8TJ3d6"
      }
    },
    {
      "cell_type": "markdown",
      "source": [
        "### Importações e ETL"
      ],
      "metadata": {
        "id": "EfJYVcjxJgnW"
      }
    },
    {
      "cell_type": "code",
      "execution_count": 109,
      "metadata": {
        "application/vnd.databricks.v1+cell": {
          "cellMetadata": {
            "byteLimit": 2048000,
            "rowLimit": 10000
          },
          "inputWidgets": {},
          "nuid": "7de4054c-b3b8-4aa9-99b2-f5c21828ba51",
          "showTitle": false,
          "tableResultSettingsMap": {},
          "title": ""
        },
        "colab": {
          "base_uri": "https://localhost:8080/",
          "height": 219
        },
        "id": "l4dCaZE9r3HA",
        "outputId": "ad38892d-5c7e-43af-df56-15eb96784df5"
      },
      "outputs": [
        {
          "output_type": "execute_result",
          "data": {
            "text/plain": [
              "<pyspark.sql.session.SparkSession at 0x7d9058e153d0>"
            ],
            "text/html": [
              "\n",
              "            <div>\n",
              "                <p><b>SparkSession - in-memory</b></p>\n",
              "                \n",
              "        <div>\n",
              "            <p><b>SparkContext</b></p>\n",
              "\n",
              "            <p><a href=\"http://a27fbc465272:4040\">Spark UI</a></p>\n",
              "\n",
              "            <dl>\n",
              "              <dt>Version</dt>\n",
              "                <dd><code>v3.5.1</code></dd>\n",
              "              <dt>Master</dt>\n",
              "                <dd><code>local[*]</code></dd>\n",
              "              <dt>AppName</dt>\n",
              "                <dd><code>Spark-trabalho-fiap</code></dd>\n",
              "            </dl>\n",
              "        </div>\n",
              "        \n",
              "            </div>\n",
              "        "
            ]
          },
          "metadata": {},
          "execution_count": 109
        }
      ],
      "source": [
        "from pyspark.sql import SparkSession\n",
        "import pandas as pd\n",
        "\n",
        "spark = SparkSession.builder.appName(\"Spark-trabalho-fiap\").getOrCreate()\n",
        "spark"
      ]
    },
    {
      "cell_type": "code",
      "execution_count": 110,
      "metadata": {
        "application/vnd.databricks.v1+cell": {
          "cellMetadata": {
            "byteLimit": 2048000,
            "rowLimit": 10000
          },
          "inputWidgets": {},
          "nuid": "023535cf-33e1-4fd7-9195-be18bbaea625",
          "showTitle": false,
          "tableResultSettingsMap": {},
          "title": ""
        },
        "colab": {
          "base_uri": "https://localhost:8080/"
        },
        "id": "Mxzfzsimr3HA",
        "outputId": "12cbfbe4-9dcb-4f29-894d-b666a3527759"
      },
      "outputs": [
        {
          "output_type": "stream",
          "name": "stdout",
          "text": [
            "+----------+-------------+-------------+--------------+--------------+--------------+--------+--------------+-----------+\n",
            "|      date|home_teamName|away_teamName|home_scoreHome|away_scoreAway|tournamentName|cityCity|countryCountry|neutralTRUE|\n",
            "+----------+-------------+-------------+--------------+--------------+--------------+--------+--------------+-----------+\n",
            "|1872-11-30|     Scotland|      England|             0|             0|      Friendly| Glasgow|      Scotland|      false|\n",
            "|1873-03-08|      England|     Scotland|             4|             2|      Friendly|  London|       England|      false|\n",
            "|1874-03-07|     Scotland|      England|             2|             1|      Friendly| Glasgow|      Scotland|      false|\n",
            "+----------+-------------+-------------+--------------+--------------+--------------+--------+--------------+-----------+\n",
            "only showing top 3 rows\n",
            "\n"
          ]
        }
      ],
      "source": [
        "url = \"https://raw.githubusercontent.com/queirozene/fiap-public-data/refs/heads/main/csv/results%20(1).csv\"\n",
        "\n",
        "data = pd.read_csv(url)\n",
        "df = spark.createDataFrame(data)\n",
        "\n",
        "df.show(3)"
      ]
    },
    {
      "cell_type": "code",
      "execution_count": 111,
      "metadata": {
        "application/vnd.databricks.v1+cell": {
          "cellMetadata": {
            "byteLimit": 2048000,
            "rowLimit": 10000
          },
          "inputWidgets": {},
          "nuid": "f1a9b056-b25c-439d-9ccb-c264847480e0",
          "showTitle": false,
          "tableResultSettingsMap": {},
          "title": ""
        },
        "id": "CUQ0PkL2r3HB"
      },
      "outputs": [],
      "source": [
        "df = df.drop(\"neutralTRUE\")"
      ]
    },
    {
      "cell_type": "code",
      "execution_count": 112,
      "metadata": {
        "application/vnd.databricks.v1+cell": {
          "cellMetadata": {
            "byteLimit": 2048000,
            "rowLimit": 10000
          },
          "inputWidgets": {},
          "nuid": "346d86e6-3c8b-474b-a4a2-4576d79261d8",
          "showTitle": false,
          "tableResultSettingsMap": {},
          "title": ""
        },
        "id": "Bi1ihgmlr3HB"
      },
      "outputs": [],
      "source": [
        "df = (\n",
        "    df.withColumnRenamed(\"date\", \"data_da_partida\")\n",
        "    .withColumnRenamed(\"home_teamName\", \"time_mandante\")\n",
        "    .withColumnRenamed(\"away_teamName\", \"time_visitante\")\n",
        "    .withColumnRenamed(\"home_scoreHome\", \"placar_mandante\")\n",
        "    .withColumnRenamed(\"away_scoreAway\", \"placar_visitante\")\n",
        "    .withColumnRenamed(\"tournamentName\", \"torneio\")\n",
        "    .withColumnRenamed(\"cityCity\", \"cidade\")\n",
        "    .withColumnRenamed(\"countryCountry\", \"pais\")\n",
        ")"
      ]
    },
    {
      "cell_type": "markdown",
      "metadata": {
        "application/vnd.databricks.v1+cell": {
          "cellMetadata": {},
          "inputWidgets": {},
          "nuid": "9ec2f00a-40d4-4c00-b0b9-28c4754e109b",
          "showTitle": false,
          "tableResultSettingsMap": {},
          "title": ""
        },
        "id": "nSTX1xkkr3HB"
      },
      "source": [
        "### 1. Quantos registros existem na base?"
      ]
    },
    {
      "cell_type": "code",
      "execution_count": 113,
      "metadata": {
        "application/vnd.databricks.v1+cell": {
          "cellMetadata": {
            "byteLimit": 2048000,
            "rowLimit": 10000
          },
          "inputWidgets": {},
          "nuid": "d414bfb5-06ae-44a1-b95d-8caf9e4b70cd",
          "showTitle": false,
          "tableResultSettingsMap": {},
          "title": ""
        },
        "colab": {
          "base_uri": "https://localhost:8080/"
        },
        "id": "O58nSJkCr3HC",
        "outputId": "e4e919ab-853c-43e9-a6cf-f89ac5b85869"
      },
      "outputs": [
        {
          "output_type": "stream",
          "name": "stdout",
          "text": [
            "Na base existem 40839 registros.\n"
          ]
        }
      ],
      "source": [
        "# python (spark)\n",
        "\n",
        "qtd_registros = df.count()\n",
        "\n",
        "print(f\"Na base existem {qtd_registros} registros.\")"
      ]
    },
    {
      "cell_type": "code",
      "execution_count": 114,
      "metadata": {
        "application/vnd.databricks.v1+cell": {
          "cellMetadata": {
            "byteLimit": 2048000,
            "rowLimit": 10000
          },
          "inputWidgets": {},
          "nuid": "9fea52ae-fbec-4810-83a6-da591429d304",
          "showTitle": false,
          "tableResultSettingsMap": {},
          "title": ""
        },
        "colab": {
          "base_uri": "https://localhost:8080/"
        },
        "id": "gQTMyXgOr3HC",
        "outputId": "7b32ca16-a271-4509-8da3-d090d51200c4"
      },
      "outputs": [
        {
          "output_type": "stream",
          "name": "stdout",
          "text": [
            "+-----------------------+\n",
            "|Quantidade de Registros|\n",
            "+-----------------------+\n",
            "|40839                  |\n",
            "+-----------------------+\n",
            "\n"
          ]
        }
      ],
      "source": [
        "# sql\n",
        "\n",
        "df.createOrReplaceTempView(\"jogos\")\n",
        "\n",
        "spark.sql('''\n",
        "          SELECT\n",
        "            COUNT(*) as `Quantidade de Registros`\n",
        "          FROM jogos\n",
        "          ''').show(5, truncate=False)"
      ]
    },
    {
      "cell_type": "markdown",
      "metadata": {
        "application/vnd.databricks.v1+cell": {
          "cellMetadata": {},
          "inputWidgets": {},
          "nuid": "e4503f3f-ef50-4e24-bba2-5e5ce31cea90",
          "showTitle": false,
          "tableResultSettingsMap": {},
          "title": ""
        },
        "id": "3YLxUIiXr3HC"
      },
      "source": [
        "### 2. Quantas equipes únicas mandantes existem na base?"
      ]
    },
    {
      "cell_type": "code",
      "execution_count": 115,
      "metadata": {
        "application/vnd.databricks.v1+cell": {
          "cellMetadata": {
            "byteLimit": 2048000,
            "rowLimit": 10000
          },
          "inputWidgets": {},
          "nuid": "fcfe7664-7cce-487a-b7e1-8b11844b4085",
          "showTitle": false,
          "tableResultSettingsMap": {},
          "title": ""
        },
        "colab": {
          "base_uri": "https://localhost:8080/"
        },
        "id": "udXuWe8or3HC",
        "outputId": "4cb7185a-87c1-403e-b014-bd23283becdf"
      },
      "outputs": [
        {
          "output_type": "stream",
          "name": "stdout",
          "text": [
            "Na base existem 309 times mandantes únicos.\n"
          ]
        }
      ],
      "source": [
        "# python (spark)\n",
        "\n",
        "times_mandantes_unicos = df.select(\"time_mandante\").distinct().count()\n",
        "\n",
        "print(f\"Na base existem {times_mandantes_unicos} times mandantes únicos.\")"
      ]
    },
    {
      "cell_type": "code",
      "execution_count": 116,
      "metadata": {
        "application/vnd.databricks.v1+cell": {
          "cellMetadata": {
            "byteLimit": 2048000,
            "rowLimit": 10000
          },
          "inputWidgets": {},
          "nuid": "5f97ae85-baae-4f91-aa08-11506eecc1d8",
          "showTitle": false,
          "tableResultSettingsMap": {},
          "title": ""
        },
        "colab": {
          "base_uri": "https://localhost:8080/"
        },
        "id": "9D6TxHFNr3HC",
        "outputId": "acfbf3ec-280a-45f0-b128-80e9075a16e6"
      },
      "outputs": [
        {
          "output_type": "stream",
          "name": "stdout",
          "text": [
            "+-----------------------------+\n",
            "|Quantidade de Times Mandantes|\n",
            "+-----------------------------+\n",
            "|309                          |\n",
            "+-----------------------------+\n",
            "\n"
          ]
        }
      ],
      "source": [
        "# sql\n",
        "\n",
        "df.createOrReplaceTempView(\"jogos\")\n",
        "\n",
        "spark.sql('''\n",
        "          SELECT\n",
        "            COUNT(DISTINCT time_mandante) as `Quantidade de Times Mandantes`\n",
        "          FROM jogos\n",
        "          ''').show(truncate=False)"
      ]
    },
    {
      "cell_type": "markdown",
      "metadata": {
        "application/vnd.databricks.v1+cell": {
          "cellMetadata": {},
          "inputWidgets": {},
          "nuid": "f7e2cdfa-4b0a-485c-bc9a-6869df3d805b",
          "showTitle": false,
          "tableResultSettingsMap": {},
          "title": ""
        },
        "id": "mmcWZ4xcr3HD"
      },
      "source": [
        "### 3. Quantas vezes as equipes mandantes saíram vitoriosas?"
      ]
    },
    {
      "cell_type": "code",
      "execution_count": 117,
      "metadata": {
        "application/vnd.databricks.v1+cell": {
          "cellMetadata": {
            "byteLimit": 2048000,
            "rowLimit": 10000
          },
          "inputWidgets": {},
          "nuid": "66e80379-75df-4a78-a5fa-dc82df693348",
          "showTitle": false,
          "tableResultSettingsMap": {},
          "title": ""
        },
        "colab": {
          "base_uri": "https://localhost:8080/"
        },
        "id": "l7Ua-wHVr3HD",
        "outputId": "f295a855-11d4-486f-936b-0e2912a05305"
      },
      "outputs": [
        {
          "output_type": "stream",
          "name": "stdout",
          "text": [
            "Na base existem 19864 partidas onde o time mandante venceu.\n"
          ]
        }
      ],
      "source": [
        "# python (Spark)\n",
        "\n",
        "mandantes_vitoria = df.filter(df.placar_mandante > df.placar_visitante).count()\n",
        "\n",
        "print(f\"Na base existem {mandantes_vitoria} partidas onde o time mandante venceu.\")"
      ]
    },
    {
      "cell_type": "code",
      "execution_count": 118,
      "metadata": {
        "application/vnd.databricks.v1+cell": {
          "cellMetadata": {},
          "inputWidgets": {},
          "nuid": "8365b7e2-2b5b-44e5-a1ad-acd8f0266ff8",
          "showTitle": false,
          "tableResultSettingsMap": {},
          "title": ""
        },
        "colab": {
          "base_uri": "https://localhost:8080/"
        },
        "id": "OLHP0o7Kr3HD",
        "outputId": "68dbbf43-e0c4-469d-bb66-7d61c7e095e2"
      },
      "outputs": [
        {
          "output_type": "stream",
          "name": "stdout",
          "text": [
            "+------------------------------------+\n",
            "|Quantidade de vitorias time mandante|\n",
            "+------------------------------------+\n",
            "|19864                               |\n",
            "+------------------------------------+\n",
            "\n"
          ]
        }
      ],
      "source": [
        "# sql\n",
        "\n",
        "spark.sql('''\n",
        "          SELECT\n",
        "            COUNT(time_mandante) as `Quantidade de vitorias time mandante`\n",
        "          FROM jogos\n",
        "          WHERE placar_mandante > placar_visitante\n",
        "          ''').show(truncate=False)"
      ]
    },
    {
      "cell_type": "markdown",
      "source": [
        "### 4. Quantas vezes as equipes visitantes saíram vitoriosas?"
      ],
      "metadata": {
        "id": "Q6OyFUE8tDRc"
      }
    },
    {
      "cell_type": "code",
      "source": [
        "# python (Spark)\n",
        "\n",
        "visitante_vitoria = df.filter(df.placar_visitante > df.placar_mandante).count()\n",
        "\n",
        "print(f\"Na base existem {visitante_vitoria} partidas onde o time visitante venceu.\")"
      ],
      "metadata": {
        "colab": {
          "base_uri": "https://localhost:8080/"
        },
        "id": "BFi81XkrtFyk",
        "outputId": "79523e91-5daf-4f8b-b333-220e4f3b3170"
      },
      "execution_count": 119,
      "outputs": [
        {
          "output_type": "stream",
          "name": "stdout",
          "text": [
            "Na base existem 11544 partidas onde o time visitante venceu.\n"
          ]
        }
      ]
    },
    {
      "cell_type": "code",
      "source": [
        "# sql\n",
        "\n",
        "spark.sql('''\n",
        "          SELECT\n",
        "            COUNT(time_visitante) as `Quantidade de vitorias time visitante`\n",
        "          FROM jogos\n",
        "          WHERE placar_mandante < placar_visitante\n",
        "          ''').show(truncate=False)"
      ],
      "metadata": {
        "colab": {
          "base_uri": "https://localhost:8080/"
        },
        "id": "U9ytnSW_tQ1j",
        "outputId": "c48a1a45-cb8f-4d65-da23-612d1c3f9331"
      },
      "execution_count": 120,
      "outputs": [
        {
          "output_type": "stream",
          "name": "stdout",
          "text": [
            "+-------------------------------------+\n",
            "|Quantidade de vitorias time visitante|\n",
            "+-------------------------------------+\n",
            "|11544                                |\n",
            "+-------------------------------------+\n",
            "\n"
          ]
        }
      ]
    },
    {
      "cell_type": "markdown",
      "source": [
        "### 5. Quantas partidas resultaram em empate?"
      ],
      "metadata": {
        "id": "B83SlSubuZKN"
      }
    },
    {
      "cell_type": "code",
      "source": [
        "# python (Spark)\n",
        "\n",
        "empates = df.filter(df.placar_visitante == df.placar_mandante).count()\n",
        "\n",
        "print(f\"Na base existem {empates} partidas onde o resultado final foi empate.\")"
      ],
      "metadata": {
        "colab": {
          "base_uri": "https://localhost:8080/"
        },
        "id": "GA2D98GNte2b",
        "outputId": "600380b5-833f-4f22-9b0f-ea0e88cf0533"
      },
      "execution_count": 121,
      "outputs": [
        {
          "output_type": "stream",
          "name": "stdout",
          "text": [
            "Na base existem 9431 partidas onde o resultado final foi empate.\n"
          ]
        }
      ]
    },
    {
      "cell_type": "code",
      "source": [
        "# sql\n",
        "\n",
        "spark.sql('''\n",
        "          SELECT\n",
        "            COUNT(*) as `Quantidade de partidas empatadas`\n",
        "          FROM jogos\n",
        "          WHERE placar_mandante = placar_visitante\n",
        "          ''').show(truncate=False)"
      ],
      "metadata": {
        "colab": {
          "base_uri": "https://localhost:8080/"
        },
        "id": "BDOEIVJHuj-d",
        "outputId": "c85faad7-c44b-468b-d49b-9e1105c48a5d"
      },
      "execution_count": 122,
      "outputs": [
        {
          "output_type": "stream",
          "name": "stdout",
          "text": [
            "+--------------------------------+\n",
            "|Quantidade de partidas empatadas|\n",
            "+--------------------------------+\n",
            "|9431                            |\n",
            "+--------------------------------+\n",
            "\n"
          ]
        }
      ]
    },
    {
      "cell_type": "markdown",
      "source": [
        "### 6. Quantas partidas foram realizadas em cada país?"
      ],
      "metadata": {
        "id": "C5mPLpULvK-J"
      }
    },
    {
      "cell_type": "code",
      "source": [
        "# python (Spark)\n",
        "\n",
        "paises_distintos = df.select(df.pais).distinct().count()\n",
        "print(f\"Existem {paises_distintos} paises que sediaram partidas, segue o nome do pais e a quantidade de jogos realizados no mesmo:\")\n",
        "\n",
        "df.groupBy(df.pais).count().orderBy(\"count\", ascending=False).show(266, truncate=False)"
      ],
      "metadata": {
        "colab": {
          "base_uri": "https://localhost:8080/"
        },
        "collapsed": true,
        "id": "HV5UihTwu8V6",
        "outputId": "150ff9ca-4b83-496b-ac10-ba4043307a42"
      },
      "execution_count": 123,
      "outputs": [
        {
          "output_type": "stream",
          "name": "stdout",
          "text": [
            "Existem 266 paises que sediaram partidas, segue o nome do pais e a quantidade de jogos realizados no mesmo:\n",
            "+--------------------------------+-----+\n",
            "|pais                            |count|\n",
            "+--------------------------------+-----+\n",
            "|United States                   |1144 |\n",
            "|France                          |801  |\n",
            "|England                         |687  |\n",
            "|Malaysia                        |644  |\n",
            "|Sweden                          |637  |\n",
            "|Germany                         |581  |\n",
            "|Brazil                          |529  |\n",
            "|Spain                           |517  |\n",
            "|Thailand                        |483  |\n",
            "|Italy                           |480  |\n",
            "|Switzerland                     |477  |\n",
            "|Austria                         |475  |\n",
            "|United Arab Emirates            |472  |\n",
            "|South Africa                    |470  |\n",
            "|Qatar                           |467  |\n",
            "|South Korea                     |453  |\n",
            "|Argentina                       |449  |\n",
            "|Hungary                         |431  |\n",
            "|Chile                           |405  |\n",
            "|Belgium                         |396  |\n",
            "|Mexico                          |392  |\n",
            "|Egypt                           |391  |\n",
            "|Netherlands                     |390  |\n",
            "|Norway                          |385  |\n",
            "|Scotland                        |385  |\n",
            "|Uruguay                         |374  |\n",
            "|Poland                          |372  |\n",
            "|Denmark                         |371  |\n",
            "|Trinidad and Tobago             |369  |\n",
            "|Singapore                       |368  |\n",
            "|Saudi Arabia                    |367  |\n",
            "|Kuwait                          |355  |\n",
            "|Portugal                        |355  |\n",
            "|Tunisia                         |351  |\n",
            "|Kenya                           |349  |\n",
            "|Japan                           |344  |\n",
            "|Finland                         |325  |\n",
            "|Wales                           |324  |\n",
            "|Republic of Ireland             |324  |\n",
            "|Uganda                          |307  |\n",
            "|China PR                        |304  |\n",
            "|Peru                            |297  |\n",
            "|Morocco                         |296  |\n",
            "|Turkey                          |294  |\n",
            "|Tanzania                        |294  |\n",
            "|Australia                       |294  |\n",
            "|Romania                         |286  |\n",
            "|Indonesia                       |285  |\n",
            "|Malawi                          |284  |\n",
            "|Greece                          |283  |\n",
            "|Jamaica                         |276  |\n",
            "|Costa Rica                      |268  |\n",
            "|Cyprus                          |266  |\n",
            "|Ethiopia                        |261  |\n",
            "|Bulgaria                        |261  |\n",
            "|Iran                            |255  |\n",
            "|India                           |253  |\n",
            "|Malta                           |251  |\n",
            "|Oman                            |251  |\n",
            "|Ghana                           |247  |\n",
            "|Northern Ireland                |243  |\n",
            "|Zambia                          |241  |\n",
            "|Jordan                          |236  |\n",
            "|Bahrain                         |234  |\n",
            "|Honduras                        |228  |\n",
            "|Gabon                           |224  |\n",
            "|Israel                          |222  |\n",
            "|Ivory Coast                     |221  |\n",
            "|Luxembourg                      |219  |\n",
            "|Paraguay                        |218  |\n",
            "|Yugoslavia                      |217  |\n",
            "|Estonia                         |212  |\n",
            "|Hong Kong                       |210  |\n",
            "|Russia                          |209  |\n",
            "|Ecuador                         |206  |\n",
            "|Nigeria                         |206  |\n",
            "|Senegal                         |202  |\n",
            "|Algeria                         |198  |\n",
            "|Haiti                           |198  |\n",
            "|Mali                            |198  |\n",
            "|Czechoslovakia                  |194  |\n",
            "|Bolivia                         |193  |\n",
            "|Iceland                         |191  |\n",
            "|Colombia                        |188  |\n",
            "|Guatemala                       |185  |\n",
            "|Panama                          |182  |\n",
            "|El Salvador                     |180  |\n",
            "|Venezuela                       |170  |\n",
            "|Zimbabwe                        |170  |\n",
            "|Soviet Union                    |164  |\n",
            "|Congo                           |164  |\n",
            "|Cameroon                        |164  |\n",
            "|Libya                           |163  |\n",
            "|Latvia                          |161  |\n",
            "|Albania                         |159  |\n",
            "|Lebanon                         |158  |\n",
            "|Burkina Faso                    |158  |\n",
            "|Rwanda                          |157  |\n",
            "|Sudan                           |157  |\n",
            "|Angola                          |153  |\n",
            "|Iraq                            |146  |\n",
            "|Barbados                        |146  |\n",
            "|Martinique                      |143  |\n",
            "|Fiji                            |139  |\n",
            "|New Zealand                     |139  |\n",
            "|Togo                            |136  |\n",
            "|Lithuania                       |134  |\n",
            "|Mozambique                      |134  |\n",
            "|Botswana                        |134  |\n",
            "|Suriname                        |131  |\n",
            "|Liberia                         |131  |\n",
            "|Ukraine                         |130  |\n",
            "|Guinea                          |130  |\n",
            "|German DR                       |129  |\n",
            "|Canada                          |128  |\n",
            "|Croatia                         |125  |\n",
            "|Vietnam                         |125  |\n",
            "|Slovakia                        |123  |\n",
            "|New Caledonia                   |123  |\n",
            "|Georgia                         |122  |\n",
            "|Gambia                          |122  |\n",
            "|Sierra Leone                    |121  |\n",
            "|Czech Republic                  |119  |\n",
            "|Eswatini                        |114  |\n",
            "|Bangladesh                      |108  |\n",
            "|Saint Kitts and Nevis           |108  |\n",
            "|Namibia                         |108  |\n",
            "|North Macedonia                 |108  |\n",
            "|Slovenia                        |106  |\n",
            "|Azerbaijan                      |105  |\n",
            "|Equatorial Guinea               |104  |\n",
            "|Syria                           |104  |\n",
            "|Uzbekistan                      |104  |\n",
            "|Benin                           |102  |\n",
            "|Faroe Islands                   |101  |\n",
            "|Antigua and Barbuda             |101  |\n",
            "|Lesotho                         |99   |\n",
            "|Guyana                          |98   |\n",
            "|Grenada                         |98   |\n",
            "|Malaya                          |95   |\n",
            "|Nepal                           |95   |\n",
            "|Madagascar                      |94   |\n",
            "|Liechtenstein                   |89   |\n",
            "|Belarus                         |88   |\n",
            "|Mauritania                      |88   |\n",
            "|Guadeloupe                      |88   |\n",
            "|Saint Lucia                     |86   |\n",
            "|Mauritius                       |86   |\n",
            "|Armenia                         |84   |\n",
            "|Philippines                     |83   |\n",
            "|Bosnia and Herzegovina          |82   |\n",
            "|Bermuda                         |82   |\n",
            "|Niger                           |81   |\n",
            "|Kazakhstan                      |81   |\n",
            "|Burma                           |79   |\n",
            "|Moldova                         |79   |\n",
            "|Cambodia                        |78   |\n",
            "|DR Congo                        |78   |\n",
            "|San Marino                      |77   |\n",
            "|French Polynesia                |77   |\n",
            "|Cuba                            |76   |\n",
            "|Cape Verde                      |76   |\n",
            "|Netherlands Antilles            |73   |\n",
            "|Maldives                        |73   |\n",
            "|Vietnam Republic                |72   |\n",
            "|Samoa                           |72   |\n",
            "|Jersey                          |68   |\n",
            "|Solomon Islands                 |66   |\n",
            "|Pakistan                        |66   |\n",
            "|Guinea-Bissau                   |64   |\n",
            "|Andorra                         |62   |\n",
            "|Dominica                        |61   |\n",
            "|Sri Lanka                       |59   |\n",
            "|Saint Vincent and the Grenadines|59   |\n",
            "|Zaïre                           |59   |\n",
            "|Papua New Guinea                |59   |\n",
            "|Yemen                           |58   |\n",
            "|Vanuatu                         |58   |\n",
            "|Curaçao                         |57   |\n",
            "|French Guiana                   |55   |\n",
            "|Puerto Rico                     |54   |\n",
            "|North Korea                     |54   |\n",
            "|Cayman Islands                  |52   |\n",
            "|Aruba                           |50   |\n",
            "|Montenegro                      |49   |\n",
            "|Macau                           |48   |\n",
            "|Dominican Republic              |48   |\n",
            "|Laos                            |48   |\n",
            "|Chinese Taipei                  |47   |\n",
            "|Réunion                         |47   |\n",
            "|Tajikistan                      |46   |\n",
            "|Serbia                          |45   |\n",
            "|Burundi                         |43   |\n",
            "|Guernsey                        |41   |\n",
            "|Chad                            |40   |\n",
            "|Guam                            |40   |\n",
            "|Seychelles                      |40   |\n",
            "|Northern Cyprus                 |35   |\n",
            "|Zanzibar                        |34   |\n",
            "|Turkmenistan                    |33   |\n",
            "|Kyrgyzstan                      |32   |\n",
            "|Central African Republic        |31   |\n",
            "|Gibraltar                       |30   |\n",
            "|Netherlands Guyana              |29   |\n",
            "|British Virgin Islands          |29   |\n",
            "|British Guyana                  |28   |\n",
            "|Tanganyika                      |28   |\n",
            "|Western Samoa                   |27   |\n",
            "|Nicaragua                       |26   |\n",
            "|Isle of Man                     |24   |\n",
            "|Upper Volta                     |22   |\n",
            "|Djibouti                        |21   |\n",
            "|São Tomé and Príncipe           |17   |\n",
            "|Somalia                         |17   |\n",
            "|Belize                          |17   |\n",
            "|Palestine                       |16   |\n",
            "|Dahomey                         |16   |\n",
            "|Eritrea                         |16   |\n",
            "|Northern Rhodesia               |15   |\n",
            "|U.S. Virgin Islands             |15   |\n",
            "|Comoros                         |15   |\n",
            "|Bhutan                          |14   |\n",
            "|Mongolia                        |13   |\n",
            "|Anguilla                        |12   |\n",
            "|Tonga                           |12   |\n",
            "|Bahamas                         |12   |\n",
            "|Southern Rhodesia               |11   |\n",
            "|Saint Martin                    |11   |\n",
            "|United Arab Republic            |11   |\n",
            "|Kosovo                          |11   |\n",
            "|Serbia and Montenegro           |11   |\n",
            "|Sint Maarten                    |10   |\n",
            "|Cook Islands                    |10   |\n",
            "|Irish Free State                |9    |\n",
            "|Brunei                          |9    |\n",
            "|South Sudan                     |9    |\n",
            "|Afghanistan                     |8    |\n",
            "|Ceylon                          |8    |\n",
            "|Vietnam DR                      |7    |\n",
            "|Éire                            |7    |\n",
            "|Gold Coast                      |6    |\n",
            "|Rhodesia                        |6    |\n",
            "|Saarland                        |6    |\n",
            "|Montserrat                      |5    |\n",
            "|Manchuria                       |5    |\n",
            "|Monaco                          |5    |\n",
            "|Yemen AR                        |5    |\n",
            "|Myanmar                         |5    |\n",
            "|Nyasaland                       |4    |\n",
            "|French Somaliland               |4    |\n",
            "|East Timor                      |4    |\n",
            "|New Hebrides                    |3    |\n",
            "|Bohemia                         |3    |\n",
            "|Northern Mariana Islands        |3    |\n",
            "|Palau                           |3    |\n",
            "|Yemen DPR                       |2    |\n",
            "|Greenland                       |2    |\n",
            "|Turks and Caicos Islands        |2    |\n",
            "|Tahiti                          |2    |\n",
            "|Mayotte                         |2    |\n",
            "|Belgian Congo                   |1    |\n",
            "|Lautoka                         |1    |\n",
            "|Portuguese Guinea               |1    |\n",
            "|Mali Federation                 |1    |\n",
            "|Bohemia and Moravia             |1    |\n",
            "|Micronesia                      |1    |\n",
            "+--------------------------------+-----+\n",
            "\n"
          ]
        }
      ]
    },
    {
      "cell_type": "code",
      "source": [
        "# sql\n",
        "\n",
        "spark.sql('''\n",
        "          SELECT\n",
        "            pais,\n",
        "            count(*) AS `quantidade de jogos`\n",
        "          FROM jogos\n",
        "          GROUP BY pais\n",
        "          ORDER BY `quantidade de jogos` DESC\n",
        "          ''').show(266)"
      ],
      "metadata": {
        "colab": {
          "base_uri": "https://localhost:8080/"
        },
        "collapsed": true,
        "id": "OmUG70lHwRuv",
        "outputId": "76dbed1f-9acb-44c1-ed39-0d85a62ec464"
      },
      "execution_count": 124,
      "outputs": [
        {
          "output_type": "stream",
          "name": "stdout",
          "text": [
            "+--------------------+-------------------+\n",
            "|                pais|quantidade de jogos|\n",
            "+--------------------+-------------------+\n",
            "|       United States|               1144|\n",
            "|              France|                801|\n",
            "|             England|                687|\n",
            "|            Malaysia|                644|\n",
            "|              Sweden|                637|\n",
            "|             Germany|                581|\n",
            "|              Brazil|                529|\n",
            "|               Spain|                517|\n",
            "|            Thailand|                483|\n",
            "|               Italy|                480|\n",
            "|         Switzerland|                477|\n",
            "|             Austria|                475|\n",
            "|United Arab Emirates|                472|\n",
            "|        South Africa|                470|\n",
            "|               Qatar|                467|\n",
            "|         South Korea|                453|\n",
            "|           Argentina|                449|\n",
            "|             Hungary|                431|\n",
            "|               Chile|                405|\n",
            "|             Belgium|                396|\n",
            "|              Mexico|                392|\n",
            "|               Egypt|                391|\n",
            "|         Netherlands|                390|\n",
            "|              Norway|                385|\n",
            "|            Scotland|                385|\n",
            "|             Uruguay|                374|\n",
            "|              Poland|                372|\n",
            "|             Denmark|                371|\n",
            "| Trinidad and Tobago|                369|\n",
            "|           Singapore|                368|\n",
            "|        Saudi Arabia|                367|\n",
            "|              Kuwait|                355|\n",
            "|            Portugal|                355|\n",
            "|             Tunisia|                351|\n",
            "|               Kenya|                349|\n",
            "|               Japan|                344|\n",
            "|             Finland|                325|\n",
            "|               Wales|                324|\n",
            "| Republic of Ireland|                324|\n",
            "|              Uganda|                307|\n",
            "|            China PR|                304|\n",
            "|                Peru|                297|\n",
            "|             Morocco|                296|\n",
            "|              Turkey|                294|\n",
            "|            Tanzania|                294|\n",
            "|           Australia|                294|\n",
            "|             Romania|                286|\n",
            "|           Indonesia|                285|\n",
            "|              Malawi|                284|\n",
            "|              Greece|                283|\n",
            "|             Jamaica|                276|\n",
            "|          Costa Rica|                268|\n",
            "|              Cyprus|                266|\n",
            "|            Ethiopia|                261|\n",
            "|            Bulgaria|                261|\n",
            "|                Iran|                255|\n",
            "|               India|                253|\n",
            "|               Malta|                251|\n",
            "|                Oman|                251|\n",
            "|               Ghana|                247|\n",
            "|    Northern Ireland|                243|\n",
            "|              Zambia|                241|\n",
            "|              Jordan|                236|\n",
            "|             Bahrain|                234|\n",
            "|            Honduras|                228|\n",
            "|               Gabon|                224|\n",
            "|              Israel|                222|\n",
            "|         Ivory Coast|                221|\n",
            "|          Luxembourg|                219|\n",
            "|            Paraguay|                218|\n",
            "|          Yugoslavia|                217|\n",
            "|             Estonia|                212|\n",
            "|           Hong Kong|                210|\n",
            "|              Russia|                209|\n",
            "|             Ecuador|                206|\n",
            "|             Nigeria|                206|\n",
            "|             Senegal|                202|\n",
            "|             Algeria|                198|\n",
            "|               Haiti|                198|\n",
            "|                Mali|                198|\n",
            "|      Czechoslovakia|                194|\n",
            "|             Bolivia|                193|\n",
            "|             Iceland|                191|\n",
            "|            Colombia|                188|\n",
            "|           Guatemala|                185|\n",
            "|              Panama|                182|\n",
            "|         El Salvador|                180|\n",
            "|           Venezuela|                170|\n",
            "|            Zimbabwe|                170|\n",
            "|        Soviet Union|                164|\n",
            "|               Congo|                164|\n",
            "|            Cameroon|                164|\n",
            "|               Libya|                163|\n",
            "|              Latvia|                161|\n",
            "|             Albania|                159|\n",
            "|             Lebanon|                158|\n",
            "|        Burkina Faso|                158|\n",
            "|              Rwanda|                157|\n",
            "|               Sudan|                157|\n",
            "|              Angola|                153|\n",
            "|                Iraq|                146|\n",
            "|            Barbados|                146|\n",
            "|          Martinique|                143|\n",
            "|                Fiji|                139|\n",
            "|         New Zealand|                139|\n",
            "|                Togo|                136|\n",
            "|           Lithuania|                134|\n",
            "|          Mozambique|                134|\n",
            "|            Botswana|                134|\n",
            "|            Suriname|                131|\n",
            "|             Liberia|                131|\n",
            "|             Ukraine|                130|\n",
            "|              Guinea|                130|\n",
            "|           German DR|                129|\n",
            "|              Canada|                128|\n",
            "|             Croatia|                125|\n",
            "|             Vietnam|                125|\n",
            "|            Slovakia|                123|\n",
            "|       New Caledonia|                123|\n",
            "|             Georgia|                122|\n",
            "|              Gambia|                122|\n",
            "|        Sierra Leone|                121|\n",
            "|      Czech Republic|                119|\n",
            "|            Eswatini|                114|\n",
            "|          Bangladesh|                108|\n",
            "|Saint Kitts and N...|                108|\n",
            "|             Namibia|                108|\n",
            "|     North Macedonia|                108|\n",
            "|            Slovenia|                106|\n",
            "|          Azerbaijan|                105|\n",
            "|   Equatorial Guinea|                104|\n",
            "|               Syria|                104|\n",
            "|          Uzbekistan|                104|\n",
            "|               Benin|                102|\n",
            "|       Faroe Islands|                101|\n",
            "| Antigua and Barbuda|                101|\n",
            "|             Lesotho|                 99|\n",
            "|              Guyana|                 98|\n",
            "|             Grenada|                 98|\n",
            "|              Malaya|                 95|\n",
            "|               Nepal|                 95|\n",
            "|          Madagascar|                 94|\n",
            "|       Liechtenstein|                 89|\n",
            "|             Belarus|                 88|\n",
            "|          Mauritania|                 88|\n",
            "|          Guadeloupe|                 88|\n",
            "|         Saint Lucia|                 86|\n",
            "|           Mauritius|                 86|\n",
            "|             Armenia|                 84|\n",
            "|         Philippines|                 83|\n",
            "|Bosnia and Herzeg...|                 82|\n",
            "|             Bermuda|                 82|\n",
            "|               Niger|                 81|\n",
            "|          Kazakhstan|                 81|\n",
            "|               Burma|                 79|\n",
            "|             Moldova|                 79|\n",
            "|            Cambodia|                 78|\n",
            "|            DR Congo|                 78|\n",
            "|          San Marino|                 77|\n",
            "|    French Polynesia|                 77|\n",
            "|                Cuba|                 76|\n",
            "|          Cape Verde|                 76|\n",
            "|Netherlands Antilles|                 73|\n",
            "|            Maldives|                 73|\n",
            "|    Vietnam Republic|                 72|\n",
            "|               Samoa|                 72|\n",
            "|              Jersey|                 68|\n",
            "|     Solomon Islands|                 66|\n",
            "|            Pakistan|                 66|\n",
            "|       Guinea-Bissau|                 64|\n",
            "|             Andorra|                 62|\n",
            "|            Dominica|                 61|\n",
            "|           Sri Lanka|                 59|\n",
            "|Saint Vincent and...|                 59|\n",
            "|               Zaïre|                 59|\n",
            "|    Papua New Guinea|                 59|\n",
            "|               Yemen|                 58|\n",
            "|             Vanuatu|                 58|\n",
            "|             Curaçao|                 57|\n",
            "|       French Guiana|                 55|\n",
            "|         Puerto Rico|                 54|\n",
            "|         North Korea|                 54|\n",
            "|      Cayman Islands|                 52|\n",
            "|               Aruba|                 50|\n",
            "|          Montenegro|                 49|\n",
            "|               Macau|                 48|\n",
            "|  Dominican Republic|                 48|\n",
            "|                Laos|                 48|\n",
            "|      Chinese Taipei|                 47|\n",
            "|             Réunion|                 47|\n",
            "|          Tajikistan|                 46|\n",
            "|              Serbia|                 45|\n",
            "|             Burundi|                 43|\n",
            "|            Guernsey|                 41|\n",
            "|                Chad|                 40|\n",
            "|                Guam|                 40|\n",
            "|          Seychelles|                 40|\n",
            "|     Northern Cyprus|                 35|\n",
            "|            Zanzibar|                 34|\n",
            "|        Turkmenistan|                 33|\n",
            "|          Kyrgyzstan|                 32|\n",
            "|Central African R...|                 31|\n",
            "|           Gibraltar|                 30|\n",
            "|  Netherlands Guyana|                 29|\n",
            "|British Virgin Is...|                 29|\n",
            "|      British Guyana|                 28|\n",
            "|          Tanganyika|                 28|\n",
            "|       Western Samoa|                 27|\n",
            "|           Nicaragua|                 26|\n",
            "|         Isle of Man|                 24|\n",
            "|         Upper Volta|                 22|\n",
            "|            Djibouti|                 21|\n",
            "|São Tomé and Prín...|                 17|\n",
            "|             Somalia|                 17|\n",
            "|              Belize|                 17|\n",
            "|           Palestine|                 16|\n",
            "|             Dahomey|                 16|\n",
            "|             Eritrea|                 16|\n",
            "|   Northern Rhodesia|                 15|\n",
            "| U.S. Virgin Islands|                 15|\n",
            "|             Comoros|                 15|\n",
            "|              Bhutan|                 14|\n",
            "|            Mongolia|                 13|\n",
            "|            Anguilla|                 12|\n",
            "|               Tonga|                 12|\n",
            "|             Bahamas|                 12|\n",
            "|   Southern Rhodesia|                 11|\n",
            "|        Saint Martin|                 11|\n",
            "|United Arab Republic|                 11|\n",
            "|              Kosovo|                 11|\n",
            "|Serbia and Monten...|                 11|\n",
            "|        Sint Maarten|                 10|\n",
            "|        Cook Islands|                 10|\n",
            "|    Irish Free State|                  9|\n",
            "|              Brunei|                  9|\n",
            "|         South Sudan|                  9|\n",
            "|         Afghanistan|                  8|\n",
            "|              Ceylon|                  8|\n",
            "|          Vietnam DR|                  7|\n",
            "|                Éire|                  7|\n",
            "|          Gold Coast|                  6|\n",
            "|            Rhodesia|                  6|\n",
            "|            Saarland|                  6|\n",
            "|          Montserrat|                  5|\n",
            "|           Manchuria|                  5|\n",
            "|              Monaco|                  5|\n",
            "|            Yemen AR|                  5|\n",
            "|             Myanmar|                  5|\n",
            "|           Nyasaland|                  4|\n",
            "|   French Somaliland|                  4|\n",
            "|          East Timor|                  4|\n",
            "|        New Hebrides|                  3|\n",
            "|             Bohemia|                  3|\n",
            "|Northern Mariana ...|                  3|\n",
            "|               Palau|                  3|\n",
            "|           Yemen DPR|                  2|\n",
            "|           Greenland|                  2|\n",
            "|Turks and Caicos ...|                  2|\n",
            "|              Tahiti|                  2|\n",
            "|             Mayotte|                  2|\n",
            "|       Belgian Congo|                  1|\n",
            "|             Lautoka|                  1|\n",
            "|   Portuguese Guinea|                  1|\n",
            "|     Mali Federation|                  1|\n",
            "| Bohemia and Moravia|                  1|\n",
            "|          Micronesia|                  1|\n",
            "+--------------------+-------------------+\n",
            "\n"
          ]
        }
      ]
    },
    {
      "cell_type": "markdown",
      "source": [
        "### 7. Qual país teve mais partidas?\n"
      ],
      "metadata": {
        "id": "i4FQR8ot0H34"
      }
    },
    {
      "cell_type": "code",
      "source": [
        "# python (Spark)\n",
        "\n",
        "df_paises_partidas = df.groupBy(df.pais).count().orderBy(\"count\", ascending=False).limit(1)\n",
        "\n",
        "df_paises_partidas.show(truncate=False)\n",
        "\n",
        "top_pais = df_paises_partidas.collect()[0]\n",
        "\n",
        "pais = top_pais[\"pais\"]\n",
        "partidas = top_pais[\"count\"]\n",
        "\n",
        "print(f\"O pais com mais partidas foi o {pais} com um total de {partidas} partidas.\")"
      ],
      "metadata": {
        "colab": {
          "base_uri": "https://localhost:8080/"
        },
        "id": "0OEw8grr0Jnf",
        "outputId": "4aebd4fe-cd69-434f-9527-a1139d529a4f"
      },
      "execution_count": 125,
      "outputs": [
        {
          "output_type": "stream",
          "name": "stdout",
          "text": [
            "+-------------+-----+\n",
            "|pais         |count|\n",
            "+-------------+-----+\n",
            "|United States|1144 |\n",
            "+-------------+-----+\n",
            "\n",
            "O pais com mais partidas foi o United States com um total de 1144 partidas.\n"
          ]
        }
      ]
    },
    {
      "cell_type": "code",
      "source": [
        "# sql\n",
        "\n",
        "spark.sql('''\n",
        "          SELECT\n",
        "            pais AS `pais com mais jogos`,\n",
        "            count(*) AS `quantidade de jogos`\n",
        "          FROM jogos\n",
        "          GROUP BY pais\n",
        "          ORDER BY `quantidade de jogos` DESC\n",
        "          LIMIT 1\n",
        "          ''').show()"
      ],
      "metadata": {
        "colab": {
          "base_uri": "https://localhost:8080/"
        },
        "id": "ziHbaKAX0RxJ",
        "outputId": "e679b1f7-5d9e-4eef-c18e-9963f0dab089"
      },
      "execution_count": 126,
      "outputs": [
        {
          "output_type": "stream",
          "name": "stdout",
          "text": [
            "+-------------------+-------------------+\n",
            "|pais com mais jogos|quantidade de jogos|\n",
            "+-------------------+-------------------+\n",
            "|      United States|               1144|\n",
            "+-------------------+-------------------+\n",
            "\n"
          ]
        }
      ]
    },
    {
      "cell_type": "markdown",
      "source": [
        "### 8. Qual a partida com maior número de gols?"
      ],
      "metadata": {
        "id": "CwdeXeVD8gM6"
      }
    },
    {
      "cell_type": "code",
      "source": [
        "# python (Spark)\n",
        "\n",
        "# verificação dos dados para ver se não tem mais de uma partida com o maior números de gols iguais\n",
        "\n",
        "df_resultados = df.withColumns({'soma_placares': df.placar_mandante + df.placar_visitante})\n",
        "\n",
        "df_resultados.orderBy(\"soma_placares\", ascending=False).show(10)\n"
      ],
      "metadata": {
        "colab": {
          "base_uri": "https://localhost:8080/"
        },
        "id": "e6-Lr8bV8NRp",
        "outputId": "9fd4743e-dd61-4520-f262-d3ab9174c017"
      },
      "execution_count": 127,
      "outputs": [
        {
          "output_type": "stream",
          "name": "stdout",
          "text": [
            "+---------------+--------------+----------------+---------------+----------------+--------------------+-------------+----------------+-------------+\n",
            "|data_da_partida| time_mandante|  time_visitante|placar_mandante|placar_visitante|             torneio|       cidade|            pais|soma_placares|\n",
            "+---------------+--------------+----------------+---------------+----------------+--------------------+-------------+----------------+-------------+\n",
            "|     2001-04-11|     Australia|  American Samoa|             31|               0|FIFA World Cup qu...|Coffs Harbour|       Australia|           31|\n",
            "|     1971-09-13|        Tahiti|    Cook Islands|             30|               0| South Pacific Games|      Papeete|French Polynesia|           30|\n",
            "|     1979-08-30|          Fiji|        Kiribati|             24|               0| South Pacific Games|      Nausori|            Fiji|           24|\n",
            "|     2001-04-09|     Australia|           Tonga|             22|               0|FIFA World Cup qu...|Coffs Harbour|       Australia|           22|\n",
            "|     2006-11-24|         Sápmi|          Monaco|             21|               1|      Viva World Cup|       Hyères|          France|           22|\n",
            "|     2005-03-11|          Guam|     North Korea|              0|              21|   EAFF Championship|       Taipei|  Chinese Taipei|           21|\n",
            "|     1987-12-15|American Samoa|Papua New Guinea|              0|              20| South Pacific Games|       Nouméa|   New Caledonia|           20|\n",
            "|     2000-02-14|        Kuwait|          Bhutan|             20|               0|AFC Asian Cup qua...|  Kuwait City|          Kuwait|           20|\n",
            "|     2003-06-30|          Sark|   Isle of Wight|              0|              20|        Island Games|   St. Martin|        Guernsey|           20|\n",
            "|     2014-06-01|        Darfur|         Padania|              0|              20|CONIFA World Foot...|    Östersund|          Sweden|           20|\n",
            "+---------------+--------------+----------------+---------------+----------------+--------------------+-------------+----------------+-------------+\n",
            "only showing top 10 rows\n",
            "\n"
          ]
        }
      ]
    },
    {
      "cell_type": "code",
      "source": [
        "# python (Spark)\n",
        "\n",
        "df_partida_maior_placar = df_resultados.orderBy(\"soma_placares\", ascending=False).limit(1)\n",
        "\n",
        "df_partida_maior_placar.show(truncate=False)\n",
        "\n",
        "dados_partida = df_partida_maior_placar.collect()[0]\n",
        "\n",
        "data = dados_partida[\"data_da_partida\"]\n",
        "mandante = dados_partida[\"time_mandante\"]\n",
        "visitante = dados_partida[\"time_visitante\"]\n",
        "placar_mandante = dados_partida[\"placar_mandante\"]\n",
        "placar_visitante = dados_partida[\"placar_visitante\"]\n",
        "soma_resultado = dados_partida[\"soma_placares\"]\n",
        "\n",
        "print(f\"A partida com o maior número de gols foi realizada na data de {data}, \\\n",
        "entre as seleções da {mandante} x {visitante} com o resultado de {placar_mandante} x {placar_visitante} para a seleção da {mandante}. \\\n",
        "Com o total de {soma_resultado} gols.\")"
      ],
      "metadata": {
        "colab": {
          "base_uri": "https://localhost:8080/"
        },
        "id": "OY16YgX484HI",
        "outputId": "7a3f2b34-52cd-4b7a-90bc-087409988a49"
      },
      "execution_count": 128,
      "outputs": [
        {
          "output_type": "stream",
          "name": "stdout",
          "text": [
            "+---------------+-------------+--------------+---------------+----------------+----------------------------+-------------+---------+-------------+\n",
            "|data_da_partida|time_mandante|time_visitante|placar_mandante|placar_visitante|torneio                     |cidade       |pais     |soma_placares|\n",
            "+---------------+-------------+--------------+---------------+----------------+----------------------------+-------------+---------+-------------+\n",
            "|2001-04-11     |Australia    |American Samoa|31             |0               |FIFA World Cup qualification|Coffs Harbour|Australia|31           |\n",
            "+---------------+-------------+--------------+---------------+----------------+----------------------------+-------------+---------+-------------+\n",
            "\n",
            "A partida com o maior número de gols foi realizada na data de 2001-04-11, entre as seleções da Australia x American Samoa com o resultado de 31 x 0 para a seleção da Australia. Com o total de 31 gols.\n"
          ]
        }
      ]
    },
    {
      "cell_type": "code",
      "source": [
        "# sql\n",
        "\n",
        "spark.sql('''\n",
        "          SELECT\n",
        "            data_da_partida,\n",
        "            time_mandante,\n",
        "            time_visitante,\n",
        "            placar_mandante,\n",
        "            placar_visitante,\n",
        "            sum(placar_mandante + placar_visitante) as soma_placares\n",
        "          FROM jogos\n",
        "          GROUP BY data_da_partida, time_mandante, time_visitante, placar_mandante, placar_visitante\n",
        "          ORDER BY soma_placares DESC\n",
        "          LIMIT 1\n",
        "          ''').show()"
      ],
      "metadata": {
        "colab": {
          "base_uri": "https://localhost:8080/"
        },
        "id": "1GGC3IXR-7dp",
        "outputId": "010ae04c-bfc2-446b-da2d-98653bb4e186"
      },
      "execution_count": 129,
      "outputs": [
        {
          "output_type": "stream",
          "name": "stdout",
          "text": [
            "+---------------+-------------+--------------+---------------+----------------+-------------+\n",
            "|data_da_partida|time_mandante|time_visitante|placar_mandante|placar_visitante|soma_placares|\n",
            "+---------------+-------------+--------------+---------------+----------------+-------------+\n",
            "|     2001-04-11|    Australia|American Samoa|             31|               0|           31|\n",
            "+---------------+-------------+--------------+---------------+----------------+-------------+\n",
            "\n"
          ]
        }
      ]
    },
    {
      "cell_type": "markdown",
      "source": [
        "### 9. Qual a maior goleada?"
      ],
      "metadata": {
        "id": "99MoY3d3EbZ_"
      }
    },
    {
      "cell_type": "markdown",
      "source": [
        "Essa pergunta poderia ser respondida utilizando o resultado da questão 8.\n",
        "\n",
        "Pois a partida com maior número de gols coincidentemente foi a maior goleada utilizando o parametro de \"goleada\" no futebol = (saldo de: gols marcados - gols sofridos).\n",
        "\n",
        "Porém, utilizarei uma mecanica de criar esse dado de saldo de gols por partida para encontrar a maior diferença e mudar o método de responder a questão."
      ],
      "metadata": {
        "id": "wO41rm4OEgp_"
      }
    },
    {
      "cell_type": "code",
      "source": [
        "# python (Spark)\n",
        "\n",
        "df_home_win = df.select('*').where(df.placar_mandante > df.placar_visitante)\n",
        "\n",
        "df_away_win = df.select('*').where(df.placar_visitante > df.placar_mandante)\n",
        "\n",
        "df_home_win = df_home_win.withColumns({'saldo_gols': df_home_win.placar_mandante - df_home_win.placar_visitante}).orderBy('saldo_gols', ascending=False)\n",
        "df_away_win = df_away_win.withColumns({'saldo_gols': df_away_win.placar_visitante - df_away_win.placar_mandante}).orderBy('saldo_gols', ascending=False)\n",
        "\n",
        "df_home_win.show(1)\n",
        "df_away_win.show(1)\n",
        "\n",
        "print(\"A maior goleada aconteceu para um time mandante!\")\n",
        "\n",
        "maior_goleada = df_home_win.collect()[0]\n",
        "\n",
        "data = maior_goleada[\"data_da_partida\"]\n",
        "mandante = maior_goleada[\"time_mandante\"]\n",
        "visitante = maior_goleada[\"time_visitante\"]\n",
        "placar_mandante = maior_goleada[\"placar_mandante\"]\n",
        "placar_visitante = maior_goleada[\"placar_visitante\"]\n",
        "saldo_gols = maior_goleada[\"saldo_gols\"]\n",
        "\n",
        "print(f\"A maior goleada foi realizada na data de {data}, \\\n",
        "entre as seleções da {mandante} x {visitante} com o resultado de {placar_mandante} x {placar_visitante} para a seleção da {mandante}. \\\n",
        "Com o saldo de gols de {saldo_gols} gols positivos.\")"
      ],
      "metadata": {
        "colab": {
          "base_uri": "https://localhost:8080/"
        },
        "id": "uqR1mtJHC6hp",
        "outputId": "d3ccbd93-6bd0-4a58-8752-53fe010f4365"
      },
      "execution_count": 130,
      "outputs": [
        {
          "output_type": "stream",
          "name": "stdout",
          "text": [
            "+---------------+-------------+--------------+---------------+----------------+--------------------+-------------+---------+----------+\n",
            "|data_da_partida|time_mandante|time_visitante|placar_mandante|placar_visitante|             torneio|       cidade|     pais|saldo_gols|\n",
            "+---------------+-------------+--------------+---------------+----------------+--------------------+-------------+---------+----------+\n",
            "|     2001-04-11|    Australia|American Samoa|             31|               0|FIFA World Cup qu...|Coffs Harbour|Australia|        31|\n",
            "+---------------+-------------+--------------+---------------+----------------+--------------------+-------------+---------+----------+\n",
            "only showing top 1 row\n",
            "\n",
            "+---------------+-------------+--------------+---------------+----------------+-----------------+------+--------------+----------+\n",
            "|data_da_partida|time_mandante|time_visitante|placar_mandante|placar_visitante|          torneio|cidade|          pais|saldo_gols|\n",
            "+---------------+-------------+--------------+---------------+----------------+-----------------+------+--------------+----------+\n",
            "|     2005-03-11|         Guam|   North Korea|              0|              21|EAFF Championship|Taipei|Chinese Taipei|        21|\n",
            "+---------------+-------------+--------------+---------------+----------------+-----------------+------+--------------+----------+\n",
            "only showing top 1 row\n",
            "\n",
            "A maior goleada aconteceu para um time mandante!\n",
            "A maior goleada foi realizada na data de 2001-04-11, entre as seleções da Australia x American Samoa com o resultado de 31 x 0 para a seleção da Australia. Com o saldo de gols de 31 gols positivos.\n"
          ]
        }
      ]
    },
    {
      "cell_type": "code",
      "source": [
        "# sql\n",
        "\n",
        "print(\"A maior goleada aconteceu na partida abaixo:\")\n",
        "\n",
        "spark.sql('''\n",
        "          SELECT\n",
        "              data_da_partida,\n",
        "              time_mandante,\n",
        "              time_visitante,\n",
        "              placar_mandante,\n",
        "              placar_visitante,\n",
        "              ABS(placar_mandante - placar_visitante) AS saldo_gols\n",
        "          FROM jogos\n",
        "          ORDER BY saldo_gols DESC\n",
        "          LIMIT 1\n",
        "          ''').show()"
      ],
      "metadata": {
        "colab": {
          "base_uri": "https://localhost:8080/"
        },
        "id": "Dle4VAxCF5R2",
        "outputId": "92fc9ba8-6fea-4f56-cf94-6d5b0847d2b1"
      },
      "execution_count": 131,
      "outputs": [
        {
          "output_type": "stream",
          "name": "stdout",
          "text": [
            "A maior goleada aconteceu na partida abaixo:\n",
            "+---------------+-------------+--------------+---------------+----------------+----------+\n",
            "|data_da_partida|time_mandante|time_visitante|placar_mandante|placar_visitante|saldo_gols|\n",
            "+---------------+-------------+--------------+---------------+----------------+----------+\n",
            "|     2001-04-11|    Australia|American Samoa|             31|               0|        31|\n",
            "+---------------+-------------+--------------+---------------+----------------+----------+\n",
            "\n"
          ]
        }
      ]
    },
    {
      "cell_type": "markdown",
      "source": [
        "### 10. Quantos jogos ocorreram no Brasil?"
      ],
      "metadata": {
        "id": "3t3ND-z-I28I"
      }
    },
    {
      "cell_type": "code",
      "source": [
        "# python (Spark)\n",
        "\n",
        "jogos_brasil = df.select('*').where(df.pais == \"Brazil\").count()\n",
        "\n",
        "print(f\"Foram realizadas {jogos_brasil} partidas no Brasil.\")"
      ],
      "metadata": {
        "colab": {
          "base_uri": "https://localhost:8080/"
        },
        "id": "o4g4iu3BILm-",
        "outputId": "6c02d276-21f9-4f06-c42e-bd6e210f5674"
      },
      "execution_count": 132,
      "outputs": [
        {
          "output_type": "stream",
          "name": "stdout",
          "text": [
            "Foram realizadas 529 partidas no Brasil.\n"
          ]
        }
      ]
    },
    {
      "cell_type": "code",
      "source": [
        "# sql\n",
        "\n",
        "spark.sql('''\n",
        "          SELECT\n",
        "            COUNT(*) AS `Quantidade de jogos no Brasil`\n",
        "          FROM jogos\n",
        "          WHERE pais = \"Brazil\"\n",
        "          ''').show()"
      ],
      "metadata": {
        "colab": {
          "base_uri": "https://localhost:8080/"
        },
        "id": "P2mgmzQfOxWg",
        "outputId": "1725ae59-4c78-470a-e10d-28b5116b2838"
      },
      "execution_count": 133,
      "outputs": [
        {
          "output_type": "stream",
          "name": "stdout",
          "text": [
            "+-----------------------------+\n",
            "|Quantidade de jogos no Brasil|\n",
            "+-----------------------------+\n",
            "|                          529|\n",
            "+-----------------------------+\n",
            "\n"
          ]
        }
      ]
    }
  ],
  "metadata": {
    "application/vnd.databricks.v1+notebook": {
      "computePreferences": null,
      "dashboards": [],
      "environmentMetadata": {
        "base_environment": "",
        "environment_version": "2"
      },
      "inputWidgetPreferences": null,
      "language": "python",
      "notebookMetadata": {
        "pythonIndentUnit": 4
      },
      "notebookName": "Trabalho-FIAP-Distributed Data Processing & Storage_2025-06-19",
      "widgets": {}
    },
    "language_info": {
      "name": "python"
    },
    "colab": {
      "provenance": []
    },
    "kernelspec": {
      "name": "python3",
      "display_name": "Python 3"
    }
  },
  "nbformat": 4,
  "nbformat_minor": 0
}